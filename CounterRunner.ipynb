{
 "cells": [
  {
   "cell_type": "code",
   "execution_count": 2,
   "metadata": {
    "editable": true
   },
   "outputs": [
    {
     "name": "stdout",
     "output_type": "stream",
     "text": [
      "Get:1 http://security.ubuntu.com/ubuntu xenial-security InRelease [109 kB]\n",
      "Get:2 http://ppa.launchpad.net/ubuntu-toolchain-r/test/ubuntu xenial InRelease [17.5 kB]\n",
      "Hit:3 http://archive.ubuntu.com/ubuntu xenial InRelease                        \u001b[0m\n",
      "Get:5 http://archive.ubuntu.com/ubuntu xenial-updates InRelease [109 kB]       \u001b[0m\u001b[33m\u001b[33m\n",
      "Hit:6 https://deb.nodesource.com/node_11.x xenial InRelease \u001b[0m\u001b[33m\n",
      "Get:7 https://cli-assets.heroku.com/apt ./ InRelease [2,879 B]                 \u001b[0m\n",
      "Get:8 http://security.ubuntu.com/ubuntu xenial-security/main amd64 Packages [1,089 kB]3m\n",
      "Get:9 http://security.ubuntu.com/ubuntu xenial-security/universe amd64 Packages [623 kB]\u001b[33m\n",
      "Get:10 http://security.ubuntu.com/ubuntu xenial-security/multiverse amd64 Packages [6,280 B]\n",
      "Get:11 http://archive.ubuntu.com/ubuntu xenial-backports InRelease [107 kB][0m \u001b[0m\u001b[33m\n",
      "Get:12 http://ppa.launchpad.net/ubuntu-toolchain-r/test/ubuntu xenial/main amd64 Packages [107 kB]\u001b[33m\u001b[33m\n",
      "Get:13 https://cli-assets.heroku.com/apt ./ Packages [559 B] \u001b[0m\n",
      "Get:14 http://archive.ubuntu.com/ubuntu xenial-updates/main amd64 Packages [1,459 kB]\n",
      "Get:4 https://downloads.apache.org/cassandra/debian 311x InRelease [268 B]     \u001b[0m\u001b[33m\u001b[33m\u001b[33m\n",
      "Hit:4 https://downloads.apache.org/cassandra/debian 311x InReleasem\n",
      "Get:15 http://archive.ubuntu.com/ubuntu xenial-updates/universe amd64 Packages [1,028 kB]\n",
      "Get:16 http://archive.ubuntu.com/ubuntu xenial-updates/multiverse amd64 Packages [19.2 kB]\n",
      "Fetched 4,678 kB in 1s (2,379 kB/s)3m                   \u001b[0m\u001b[33m\u001b[33m\u001b[33m\n",
      "Reading package lists... Done\n",
      "Building dependency tree       \n",
      "Reading state information... Done\n",
      "43 packages can be upgraded. Run 'apt list --upgradable' to see them.\n",
      "Reading package lists... Done\n",
      "Building dependency tree       \n",
      "Reading state information... Done\n",
      "python3-pip is already the newest version (8.1.1-2ubuntu0.4).\n",
      "0 upgraded, 0 newly installed, 0 to remove and 43 not upgraded.\n",
      "python_version = 3.5\n",
      "[setupvars.sh] OpenVINO environment initialized\n",
      "Requirement already satisfied: paho-mqtt in /opt/conda/lib/python3.6/site-packages (1.5.0)\n",
      "Requirement already satisfied: python-etcd in /opt/conda/lib/python3.6/site-packages (0.4.5)\n",
      "Requirement already satisfied: dnspython>=1.13.0 in /opt/conda/lib/python3.6/site-packages (from python-etcd) (1.16.0)\n",
      "Requirement already satisfied: urllib3>=1.7.1 in /opt/conda/lib/python3.6/site-packages (from python-etcd) (1.22)\n",
      "Installed kernelspec openvino in /root/.local/share/jupyter/kernels/openvino\n"
     ]
    }
   ],
   "source": [
    "!sudo apt update\n",
    "!sudo apt install python3-pip\n",
    "!bash /opt/intel/openvino/bin/setupvars.sh -pyver 3.5\n",
    "!pip install paho-mqtt python-etcd\n",
    "!ipython kernel install --name \"openvino\" --user"
   ]
  },
  {
   "cell_type": "code",
   "execution_count": 31,
   "metadata": {
    "editable": true
   },
   "outputs": [
    {
     "name": "stdout",
     "output_type": "stream",
     "text": [
      "Requirement already satisfied: paho-mqtt in /opt/conda/lib/python3.6/site-packages (1.5.0)\n",
      "Requirement already satisfied: python-etcd in /opt/conda/lib/python3.6/site-packages (0.4.5)\n",
      "Requirement already satisfied: dnspython>=1.13.0 in /opt/conda/lib/python3.6/site-packages (from python-etcd) (1.16.0)\n",
      "Requirement already satisfied: urllib3>=1.7.1 in /opt/conda/lib/python3.6/site-packages (from python-etcd) (1.22)\n",
      "\n",
      "> intel-people-counter-app@0.1.0 dev /home/workspace/webservice/ui\n",
      "> cross-env NODE_ENV=development webpack-dev-server --history-api-fallback --watch --hot --inline\n",
      "\n",
      "Mosca server started.\n",
      "events.js:170\n",
      "      throw er; // Unhandled 'error' event\n",
      "      ^\n",
      "\n",
      "Error: listen EADDRINUSE: address already in use 0.0.0.0:3000\n",
      "    at Server.setupListenHandle [as _listen2] (net.js:1259:14)\n",
      "    at listenInCluster (net.js:1307:12)\n",
      "    at doListen (net.js:1446:7)\n",
      "    at processTicksAndRejections (internal/process/task_queues.js:81:17)\n",
      "    at process.runNextTicks [as _tickCallback] (internal/process/task_queues.js:56:3)\n",
      "    at Function.Module.runMain (internal/modules/cjs/loader.js:880:11)\n",
      "    at internal/main/run_main_module.js:21:11\n",
      "Emitted 'error' event at:\n",
      "    at emitErrorNT (net.js:1286:8)\n",
      "    at processTicksAndRejections (internal/process/task_queues.js:81:17)\n",
      "    [... lines matching original stack trace ...]\n",
      "    at internal/main/run_main_module.js:21:11\n",
      "\u001b[37;40mnpm\u001b[0m \u001b[0m\u001b[31;40mERR!\u001b[0m \u001b[0m\u001b[35mcode\u001b[0m ELIFECYCLE\n",
      "\u001b[0m\u001b[37;40mnpm\u001b[0m \u001b[0m\u001b[31;40mERR!\u001b[0m \u001b[0m\u001b[35merrno\u001b[0m 1\n",
      "\u001b[0m\u001b[37;40mnpm\u001b[0m \u001b[0m\u001b[31;40mERR!\u001b[0m\u001b[35m\u001b[0m intel-people-counter-app@0.1.0 dev: `cross-env NODE_ENV=development webpack-dev-server --history-api-fallback --watch --hot --inline`\n",
      "\u001b[0m\u001b[37;40mnpm\u001b[0m \u001b[0m\u001b[31;40mERR!\u001b[0m\u001b[35m\u001b[0m Exit status 1\n",
      "\u001b[0m\u001b[37;40mnpm\u001b[0m \u001b[0m\u001b[31;40mERR!\u001b[0m\u001b[35m\u001b[0m \n",
      "\u001b[0m\u001b[37;40mnpm\u001b[0m \u001b[0m\u001b[31;40mERR!\u001b[0m\u001b[35m\u001b[0m Failed at the intel-people-counter-app@0.1.0 dev script.\n",
      "\u001b[0m\u001b[37;40mnpm\u001b[0m \u001b[0m\u001b[31;40mERR!\u001b[0m\u001b[35m\u001b[0m This is probably not a problem with npm. There is likely additional logging output above.\n",
      "\u001b[0m\n",
      "\u001b[37;40mnpm\u001b[0m \u001b[0m\u001b[31;40mERR!\u001b[0m\u001b[35m\u001b[0m A complete log of this run can be found in:\n",
      "\u001b[0m\u001b[37;40mnpm\u001b[0m \u001b[0m\u001b[31;40mERR!\u001b[0m\u001b[35m\u001b[0m     /root/.npm/_logs/2020-04-25T21_11_24_334Z-debug.log\n",
      "\u001b[0m"
     ]
    }
   ],
   "source": [
    "import os\n",
    "\n",
    "path = os.chdir(\"/home/workspace/webservice/server/node-server\")\n",
    "!node ./server.js & npm run dev --prefix=/home/workspace/webservice/ui"
   ]
  },
  {
   "cell_type": "code",
   "execution_count": 1,
   "metadata": {
    "editable": true
   },
   "outputs": [
    {
     "name": "stdout",
     "output_type": "stream",
     "text": [
      "Traceback (most recent call last):\n",
      "  File \"main.py\", line 34, in <module>\n",
      "    from inference import Network\n",
      "  File \"/home/workspace/inference.py\", line 28, in <module>\n",
      "    from openvino.inference_engine import IENetwork, IECore\n",
      "ModuleNotFoundError: No module named 'openvino'\n",
      "\u001b[0;39m[tcp @ 0x185bd80] \u001b[0m\u001b[1;31mConnection to tcp://0.0.0.0:3004 failed: Connection refused\n",
      "\u001b[0m\u001b[1;31mhttp://0.0.0.0:3004/fac.ffm: Connection refused\n",
      "\u001b[0m"
     ]
    }
   ],
   "source": [
    "\n",
    "!python main.py -i resources/Pedestrian_Detect_2_1_1.mp4 -m your-model.xml -l /opt/intel/openvino/deployment_tools/inference_engine/lib/intel64/libcpu_extension_sse4.so -d CPU -pt 0.6 | ffmpeg -v warning -f rawvideo -pixel_format bgr24 -video_size 768x432 -framerate 24 -i - http://0.0.0.0:3004/fac.ffm"
   ]
  },
  {
   "cell_type": "code",
   "execution_count": 15,
   "metadata": {
    "editable": true
   },
   "outputs": [
    {
     "name": "stdout",
     "output_type": "stream",
     "text": [
      "/home/workspace\n"
     ]
    }
   ],
   "source": [
    "import os\n",
    "print(os.getcwd())"
   ]
  },
  {
   "cell_type": "code",
   "execution_count": null,
   "metadata": {
    "editable": true
   },
   "outputs": [],
   "source": []
  }
 ],
 "metadata": {
  "kernelspec": {
   "display_name": "openvino",
   "language": "python",
   "name": "openvino"
  },
  "language_info": {
   "codemirror_mode": {
    "name": "ipython",
    "version": 3
   },
   "file_extension": ".py",
   "mimetype": "text/x-python",
   "name": "python",
   "nbconvert_exporter": "python",
   "pygments_lexer": "ipython3",
   "version": "3.6.3"
  }
 },
 "nbformat": 4,
 "nbformat_minor": 4
}
