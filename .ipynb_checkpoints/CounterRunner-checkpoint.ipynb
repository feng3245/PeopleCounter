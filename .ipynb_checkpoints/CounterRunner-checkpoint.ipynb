{
 "cells": [
  {
   "cell_type": "code",
   "execution_count": 1,
   "metadata": {
    "editable": true
   },
   "outputs": [
    {
     "name": "stdout",
     "output_type": "stream",
     "text": [
      "Get:1 http://security.ubuntu.com/ubuntu xenial-security InRelease [109 kB]\n",
      "Hit:2 http://archive.ubuntu.com/ubuntu xenial InRelease                        \u001b[0m\n",
      "Get:3 http://ppa.launchpad.net/ubuntu-toolchain-r/test/ubuntu xenial InRelease [17.5 kB]\n",
      "Get:5 http://archive.ubuntu.com/ubuntu xenial-updates InRelease [109 kB]       \u001b[0m\u001b[33m\u001b[33m\n",
      "Get:6 https://cli-assets.heroku.com/apt ./ InRelease [2,879 B]0m               \u001b[0m\u001b[33m\n",
      "Hit:7 https://deb.nodesource.com/node_11.x xenial InRelease  \u001b[0m\n",
      "Get:8 http://security.ubuntu.com/ubuntu xenial-security/main amd64 Packages [1,089 kB]\n",
      "Get:9 http://archive.ubuntu.com/ubuntu xenial-backports InRelease [107 kB]     \u001b[0m\n",
      "Get:10 http://security.ubuntu.com/ubuntu xenial-security/universe amd64 Packages [623 kB][33m\u001b[33m\n",
      "Get:11 http://security.ubuntu.com/ubuntu xenial-security/multiverse amd64 Packages [6,280 B]\n",
      "Get:12 http://ppa.launchpad.net/ubuntu-toolchain-r/test/ubuntu xenial/main amd64 Packages [107 kB]\n",
      "Get:13 https://cli-assets.heroku.com/apt ./ Packages [559 B]                   \u001b[0m\u001b[33m\n",
      "Get:14 http://archive.ubuntu.com/ubuntu xenial-updates/main amd64 Packages [1,461 kB]33m\u001b[33m\u001b[33m\u001b[33m\u001b[33m\u001b[33m\n",
      "Get:4 https://downloads.apache.org/cassandra/debian 311x InRelease [268 B]\n",
      "Hit:4 https://downloads.apache.org/cassandra/debian 311x InRelease\n",
      "Get:15 http://archive.ubuntu.com/ubuntu xenial-updates/universe amd64 Packages [1,028 kB]\n",
      "Get:16 http://archive.ubuntu.com/ubuntu xenial-updates/multiverse amd64 Packages [19.2 kB]\n",
      "Fetched 4,680 kB in 2s (2,294 kB/s)3m                        \u001b[0m\u001b[33m\u001b[33m\n",
      "Reading package lists... Done\n",
      "Building dependency tree       \n",
      "Reading state information... Done\n",
      "45 packages can be upgraded. Run 'apt list --upgradable' to see them.\n",
      "Reading package lists... Done\n",
      "Building dependency tree       \n",
      "Reading state information... Done\n",
      "python3-pip is already the newest version (8.1.1-2ubuntu0.4).\n",
      "0 upgraded, 0 newly installed, 0 to remove and 45 not upgraded.\n",
      "python_version = 3.5\n",
      "[setupvars.sh] OpenVINO environment initialized\n",
      "Collecting paho-mqtt\n",
      "\u001b[?25l  Downloading https://files.pythonhosted.org/packages/59/11/1dd5c70f0f27a88a3a05772cd95f6087ac479fac66d9c7752ee5e16ddbbc/paho-mqtt-1.5.0.tar.gz (99kB)\n",
      "\u001b[K    100% |████████████████████████████████| 102kB 3.5MB/s a 0:00:011\n",
      "\u001b[?25hCollecting python-etcd\n",
      "  Downloading https://files.pythonhosted.org/packages/a1/da/616a4d073642da5dd432e5289b7c1cb0963cc5dde23d1ecb8d726821ab41/python-etcd-0.4.5.tar.gz\n",
      "Requirement already satisfied: urllib3>=1.7.1 in /opt/conda/lib/python3.6/site-packages (from python-etcd) (1.22)\n",
      "Collecting dnspython>=1.13.0 (from python-etcd)\n",
      "\u001b[?25l  Downloading https://files.pythonhosted.org/packages/ec/d3/3aa0e7213ef72b8585747aa0e271a9523e713813b9a20177ebe1e939deb0/dnspython-1.16.0-py2.py3-none-any.whl (188kB)\n",
      "\u001b[K    100% |████████████████████████████████| 194kB 11.6MB/s ta 0:00:01\n",
      "\u001b[?25hBuilding wheels for collected packages: paho-mqtt, python-etcd\n",
      "  Running setup.py bdist_wheel for paho-mqtt ... \u001b[?25ldone\n",
      "\u001b[?25h  Stored in directory: /root/.cache/pip/wheels/02/94/6c/8474137cb7a5a3e001d70a22c8ff919caee69435376bccce79\n",
      "  Running setup.py bdist_wheel for python-etcd ... \u001b[?25ldone\n",
      "\u001b[?25h  Stored in directory: /root/.cache/pip/wheels/65/07/b7/da66f9ca9985154db8940f616e15f06e1c7fbfeed0e8fc8354\n",
      "Successfully built paho-mqtt python-etcd\n",
      "Installing collected packages: paho-mqtt, dnspython, python-etcd\n",
      "Successfully installed dnspython-1.16.0 paho-mqtt-1.5.0 python-etcd-0.4.5\n",
      "Installed kernelspec openvino in /root/.local/share/jupyter/kernels/openvino\n"
     ]
    }
   ],
   "source": [
    "!sudo apt update\n",
    "!sudo apt install python3-pip\n",
    "!bash /opt/intel/openvino/bin/setupvars.sh -pyver 3.5\n",
    "!pip install paho-mqtt python-etcd\n",
    "!ipython kernel install --name \"openvino\" --user"
   ]
  },
  {
   "cell_type": "code",
   "execution_count": null,
   "metadata": {
    "editable": true
   },
   "outputs": [
    {
     "name": "stdout",
     "output_type": "stream",
     "text": [
      "\n",
      "> intel-people-counter-app@0.1.0 dev /home/workspace/webservice/ui\n",
      "> cross-env NODE_ENV=development webpack-dev-server --history-api-fallback --watch --hot --inline\n",
      "\n",
      "Mosca server started.\n",
      "Project is running at \u001b[1m\u001b[34mhttp://0.0.0.0:3000/\u001b[39m\u001b[22m\n",
      "webpack output is served from \u001b[1m\u001b[34m/\u001b[39m\u001b[22m\n",
      "404s will fallback to \u001b[1m\u001b[34m/index.html\u001b[39m\u001b[22m\n",
      "(node:589) DeprecationWarning: loaderUtils.parseQuery() received a non-string value which can be problematic, see https://github.com/webpack/loader-utils/issues/56\n",
      "parseQuery() will be replaced with getOptions() in the next major version of loader-utils.\n",
      "Hash: \u001b[1mf6b0c46bf69f8dc3eb1a\u001b[39m\u001b[22m\n",
      "Version: webpack \u001b[1m2.7.0\u001b[39m\u001b[22m\n",
      "Time: \u001b[1m7933\u001b[39m\u001b[22mms\n",
      "                                   \u001b[1mAsset\u001b[39m\u001b[22m       \u001b[1mSize\u001b[39m\u001b[22m  \u001b[1mChunks\u001b[39m\u001b[22m  \u001b[1m\u001b[39m\u001b[22m           \u001b[1m\u001b[39m\u001b[22m       \u001b[1mChunk Names\u001b[39m\u001b[22m\n",
      "                               \u001b[1m\u001b[33mbundle.js\u001b[39m\u001b[22m    \u001b[1m\u001b[33m15.6 MB\u001b[39m\u001b[22m       \u001b[1m0\u001b[39m\u001b[22m  \u001b[1m\u001b[32m[emitted]\u001b[39m\u001b[22m  \u001b[1m\u001b[33m[big]\u001b[39m\u001b[22m  main\n",
      "                              \u001b[1m\u001b[32mindex.html\u001b[39m\u001b[22m  414 bytes        \u001b[1m\u001b[39m\u001b[22m  \u001b[1m\u001b[32m[emitted]\u001b[39m\u001b[22m         \n",
      "    \u001b[1m\u001b[32massets/fonts/fontawesome-webfont.eot\u001b[39m\u001b[22m     166 kB        \u001b[1m\u001b[39m\u001b[22m  \u001b[1m\u001b[32m[emitted]\u001b[39m\u001b[22m         \n",
      "    \u001b[1m\u001b[33massets/fonts/fontawesome-webfont.svg\u001b[39m\u001b[22m     \u001b[1m\u001b[33m444 kB\u001b[39m\u001b[22m        \u001b[1m\u001b[39m\u001b[22m  \u001b[1m\u001b[32m[emitted]\u001b[39m\u001b[22m  \u001b[1m\u001b[33m[big]\u001b[39m\u001b[22m  \n",
      "    \u001b[1m\u001b[32massets/fonts/fontawesome-webfont.ttf\u001b[39m\u001b[22m     166 kB        \u001b[1m\u001b[39m\u001b[22m  \u001b[1m\u001b[32m[emitted]\u001b[39m\u001b[22m         \n",
      "   \u001b[1m\u001b[32massets/fonts/fontawesome-webfont.woff\u001b[39m\u001b[22m      98 kB        \u001b[1m\u001b[39m\u001b[22m  \u001b[1m\u001b[32m[emitted]\u001b[39m\u001b[22m         \n",
      "  \u001b[1m\u001b[32massets/fonts/fontawesome-webfont.woff2\u001b[39m\u001b[22m    77.2 kB        \u001b[1m\u001b[39m\u001b[22m  \u001b[1m\u001b[32m[emitted]\u001b[39m\u001b[22m         \n",
      "        \u001b[1m\u001b[32massets/fonts/IntelClear-Bold.eot\u001b[39m\u001b[22m    74.2 kB        \u001b[1m\u001b[39m\u001b[22m  \u001b[1m\u001b[32m[emitted]\u001b[39m\u001b[22m         \n",
      "        \u001b[1m\u001b[32massets/fonts/IntelClear-Bold.ttf\u001b[39m\u001b[22m      74 kB        \u001b[1m\u001b[39m\u001b[22m  \u001b[1m\u001b[32m[emitted]\u001b[39m\u001b[22m         \n",
      "       \u001b[1m\u001b[32massets/fonts/IntelClear-Bold.woff\u001b[39m\u001b[22m    39.2 kB        \u001b[1m\u001b[39m\u001b[22m  \u001b[1m\u001b[32m[emitted]\u001b[39m\u001b[22m         \n",
      "  \u001b[1m\u001b[32massets/fonts/IntelClear-BoldItalic.eot\u001b[39m\u001b[22m      80 kB        \u001b[1m\u001b[39m\u001b[22m  \u001b[1m\u001b[32m[emitted]\u001b[39m\u001b[22m         \n",
      "  \u001b[1m\u001b[32massets/fonts/IntelClear-BoldItalic.ttf\u001b[39m\u001b[22m    79.8 kB        \u001b[1m\u001b[39m\u001b[22m  \u001b[1m\u001b[32m[emitted]\u001b[39m\u001b[22m         \n",
      " \u001b[1m\u001b[32massets/fonts/IntelClear-BoldItalic.woff\u001b[39m\u001b[22m    41.8 kB        \u001b[1m\u001b[39m\u001b[22m  \u001b[1m\u001b[32m[emitted]\u001b[39m\u001b[22m         \n",
      "      \u001b[1m\u001b[32massets/fonts/IntelClear-Italic.eot\u001b[39m\u001b[22m    77.7 kB        \u001b[1m\u001b[39m\u001b[22m  \u001b[1m\u001b[32m[emitted]\u001b[39m\u001b[22m         \n",
      "      \u001b[1m\u001b[32massets/fonts/IntelClear-Italic.ttf\u001b[39m\u001b[22m    77.5 kB        \u001b[1m\u001b[39m\u001b[22m  \u001b[1m\u001b[32m[emitted]\u001b[39m\u001b[22m         \n",
      "     \u001b[1m\u001b[32massets/fonts/IntelClear-Italic.woff\u001b[39m\u001b[22m    40.9 kB        \u001b[1m\u001b[39m\u001b[22m  \u001b[1m\u001b[32m[emitted]\u001b[39m\u001b[22m         \n",
      "       \u001b[1m\u001b[32massets/fonts/IntelClear-Light.eot\u001b[39m\u001b[22m    71.6 kB        \u001b[1m\u001b[39m\u001b[22m  \u001b[1m\u001b[32m[emitted]\u001b[39m\u001b[22m         \n",
      "       \u001b[1m\u001b[32massets/fonts/IntelClear-Light.ttf\u001b[39m\u001b[22m    71.4 kB        \u001b[1m\u001b[39m\u001b[22m  \u001b[1m\u001b[32m[emitted]\u001b[39m\u001b[22m         \n",
      "      \u001b[1m\u001b[32massets/fonts/IntelClear-Light.woff\u001b[39m\u001b[22m    38.5 kB        \u001b[1m\u001b[39m\u001b[22m  \u001b[1m\u001b[32m[emitted]\u001b[39m\u001b[22m         \n",
      " \u001b[1m\u001b[32massets/fonts/IntelClear-LightItalic.eot\u001b[39m\u001b[22m    77.7 kB        \u001b[1m\u001b[39m\u001b[22m  \u001b[1m\u001b[32m[emitted]\u001b[39m\u001b[22m         \n",
      " \u001b[1m\u001b[32massets/fonts/IntelClear-LightItalic.ttf\u001b[39m\u001b[22m    77.4 kB        \u001b[1m\u001b[39m\u001b[22m  \u001b[1m\u001b[32m[emitted]\u001b[39m\u001b[22m         \n",
      "\u001b[1m\u001b[32massets/fonts/IntelClear-LightItalic.woff\u001b[39m\u001b[22m      41 kB        \u001b[1m\u001b[39m\u001b[22m  \u001b[1m\u001b[32m[emitted]\u001b[39m\u001b[22m         \n",
      "     \u001b[1m\u001b[32massets/fonts/IntelClear-Regular.eot\u001b[39m\u001b[22m    73.6 kB        \u001b[1m\u001b[39m\u001b[22m  \u001b[1m\u001b[32m[emitted]\u001b[39m\u001b[22m         \n",
      "     \u001b[1m\u001b[32massets/fonts/IntelClear-Regular.ttf\u001b[39m\u001b[22m    73.4 kB        \u001b[1m\u001b[39m\u001b[22m  \u001b[1m\u001b[32m[emitted]\u001b[39m\u001b[22m         \n",
      "    \u001b[1m\u001b[32massets/fonts/IntelClear-Regular.woff\u001b[39m\u001b[22m    39.7 kB        \u001b[1m\u001b[39m\u001b[22m  \u001b[1m\u001b[32m[emitted]\u001b[39m\u001b[22m         \n",
      "         \u001b[1m\u001b[32massets/images/background-02.jpg\u001b[39m\u001b[22m     246 kB        \u001b[1m\u001b[39m\u001b[22m  \u001b[1m\u001b[32m[emitted]\u001b[39m\u001b[22m         \n",
      "                 \u001b[1m\u001b[32massets/images/Group.svg\u001b[39m\u001b[22m    6.42 kB        \u001b[1m\u001b[39m\u001b[22m  \u001b[1m\u001b[32m[emitted]\u001b[39m\u001b[22m         \n",
      "  \u001b[1m\u001b[32massets/images/intel-people-counter.svg\u001b[39m\u001b[22m    7.72 kB        \u001b[1m\u001b[39m\u001b[22m  \u001b[1m\u001b[32m[emitted]\u001b[39m\u001b[22m         \n",
      "            \u001b[1m\u001b[32massets/fonts/FontAwesome.otf\u001b[39m\u001b[22m     135 kB        \u001b[1m\u001b[39m\u001b[22m  \u001b[1m\u001b[32m[emitted]\u001b[39m\u001b[22m         \n",
      "chunk    {\u001b[1m\u001b[33m0\u001b[39m\u001b[22m} \u001b[1m\u001b[32mbundle.js\u001b[39m\u001b[22m (main) 6.15 MB\u001b[1m\u001b[33m [entry]\u001b[39m\u001b[22m\u001b[1m\u001b[32m [rendered]\u001b[39m\u001b[22m\n",
      "    [5] \u001b[1m./~/react/react.js\u001b[39m\u001b[22m 56 bytes {\u001b[1m\u001b[33m0\u001b[39m\u001b[22m}\u001b[1m\u001b[32m [built]\u001b[39m\u001b[22m\n",
      "   [80] \u001b[1m./~/redux/es/index.js\u001b[39m\u001b[22m 1.08 kB {\u001b[1m\u001b[33m0\u001b[39m\u001b[22m}\u001b[1m\u001b[32m [built]\u001b[39m\u001b[22m\n",
      "  [114] \u001b[1m./~/react-redux/es/index.js\u001b[39m\u001b[22m 229 bytes {\u001b[1m\u001b[33m0\u001b[39m\u001b[22m}\u001b[1m\u001b[32m [built]\u001b[39m\u001b[22m\n",
      "  [124] \u001b[1m./~/url/url.js\u001b[39m\u001b[22m 23.3 kB {\u001b[1m\u001b[33m0\u001b[39m\u001b[22m}\u001b[1m\u001b[32m [built]\u001b[39m\u001b[22m\n",
      "  [324] \u001b[1m./~/react-router-redux/es/index.js\u001b[39m\u001b[22m 420 bytes {\u001b[1m\u001b[33m0\u001b[39m\u001b[22m}\u001b[1m\u001b[32m [built]\u001b[39m\u001b[22m\n",
      "  [355] \u001b[1m(webpack)/hot/emitter.js\u001b[39m\u001b[22m 77 bytes {\u001b[1m\u001b[33m0\u001b[39m\u001b[22m}\u001b[1m\u001b[32m [built]\u001b[39m\u001b[22m\n",
      "  [357] \u001b[1m./src/index.jsx\u001b[39m\u001b[22m 2.74 kB {\u001b[1m\u001b[33m0\u001b[39m\u001b[22m}\u001b[1m\u001b[32m [built]\u001b[39m\u001b[22m\n",
      "  [358] \u001b[1m(webpack)-dev-server/client?http://0.0.0.0:3000\u001b[39m\u001b[22m 7.93 kB {\u001b[1m\u001b[33m0\u001b[39m\u001b[22m}\u001b[1m\u001b[32m [built]\u001b[39m\u001b[22m\n",
      "  [359] \u001b[1m(webpack)/hot/dev-server.js\u001b[39m\u001b[22m 1.57 kB {\u001b[1m\u001b[33m0\u001b[39m\u001b[22m}\u001b[1m\u001b[32m [built]\u001b[39m\u001b[22m\n",
      "  [366] \u001b[1m./src/components/navigation/ConnectedNavigation.jsx\u001b[39m\u001b[22m 850 bytes {\u001b[1m\u001b[33m0\u001b[39m\u001b[22m}\u001b[1m\u001b[32m [built]\u001b[39m\u001b[22m\n",
      "  [368] \u001b[1m./src/dux/reducers.js\u001b[39m\u001b[22m 509 bytes {\u001b[1m\u001b[33m0\u001b[39m\u001b[22m}\u001b[1m\u001b[32m [built]\u001b[39m\u001b[22m\n",
      "  [370] \u001b[1m./src/features/stats/ConnectedStats.jsx\u001b[39m\u001b[22m 884 bytes {\u001b[1m\u001b[33m0\u001b[39m\u001b[22m}\u001b[1m\u001b[32m [built]\u001b[39m\u001b[22m\n",
      "  [372] \u001b[1m./src/pages/monitor/Monitor.jsx\u001b[39m\u001b[22m 2.6 kB {\u001b[1m\u001b[33m0\u001b[39m\u001b[22m}\u001b[1m\u001b[32m [built]\u001b[39m\u001b[22m\n",
      "  [442] \u001b[1m./~/history/createBrowserHistory.js\u001b[39m\u001b[22m 146 bytes {\u001b[1m\u001b[33m0\u001b[39m\u001b[22m}\u001b[1m\u001b[32m [built]\u001b[39m\u001b[22m\n",
      "  [744] \u001b[1mmulti (webpack)-dev-server/client?http://0.0.0.0:3000 webpack/hot/dev-server ./src/index.jsx\u001b[39m\u001b[22m 52 bytes {\u001b[1m\u001b[33m0\u001b[39m\u001b[22m}\u001b[1m\u001b[32m [built]\u001b[39m\u001b[22m\n",
      "     + 730 hidden modules\n",
      "Child \u001b[1mhtml-webpack-plugin for \"index.html\"\u001b[39m\u001b[22m:\n",
      "    chunk    {\u001b[1m\u001b[33m0\u001b[39m\u001b[22m} \u001b[1m\u001b[32mindex.html\u001b[39m\u001b[22m 402 bytes\u001b[1m\u001b[33m [entry]\u001b[39m\u001b[22m\u001b[1m\u001b[32m [rendered]\u001b[39m\u001b[22m\n",
      "        [0] \u001b[1m./~/html-webpack-plugin/lib/loader.js!./src/index.html\u001b[39m\u001b[22m 402 bytes {\u001b[1m\u001b[33m0\u001b[39m\u001b[22m}\u001b[1m\u001b[32m [built]\u001b[39m\u001b[22m\n",
      "webpack: Compiled successfully.\n"
     ]
    }
   ],
   "source": [
    "import os\n",
    "\n",
    "path = os.chdir(\"/home/workspace/webservice/server/node-server\")\n",
    "!node ./server.js & npm run dev --prefix=/home/workspace/webservice/ui & sudo ffserver -f ./ffmpeg/server.conf"
   ]
  },
  {
   "cell_type": "code",
   "execution_count": null,
   "metadata": {},
   "outputs": [],
   "source": []
  }
 ],
 "metadata": {
  "kernelspec": {
   "display_name": "Python 3",
   "language": "python",
   "name": "python3"
  },
  "language_info": {
   "codemirror_mode": {
    "name": "ipython",
    "version": 3
   },
   "file_extension": ".py",
   "mimetype": "text/x-python",
   "name": "python",
   "nbconvert_exporter": "python",
   "pygments_lexer": "ipython3",
   "version": "3.6.3"
  }
 },
 "nbformat": 4,
 "nbformat_minor": 4
}
