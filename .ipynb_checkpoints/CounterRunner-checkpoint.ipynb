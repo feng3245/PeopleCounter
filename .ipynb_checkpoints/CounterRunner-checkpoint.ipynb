{
 "cells": [
  {
   "cell_type": "code",
   "execution_count": 28,
   "metadata": {
    "editable": true
   },
   "outputs": [
    {
     "name": "stdout",
     "output_type": "stream",
     "text": [
      "/bin/sh: 1: source: not found\n"
     ]
    }
   ],
   "source": [
    "!source /opt/intel/openvino/bin/setupvars.sh -pyver 3.5"
   ]
  },
  {
   "cell_type": "code",
   "execution_count": 31,
   "metadata": {},
   "outputs": [
    {
     "name": "stdout",
     "output_type": "stream",
     "text": [
      "Requirement already satisfied: paho-mqtt in /opt/conda/lib/python3.6/site-packages (1.5.0)\n",
      "Requirement already satisfied: python-etcd in /opt/conda/lib/python3.6/site-packages (0.4.5)\n",
      "Requirement already satisfied: dnspython>=1.13.0 in /opt/conda/lib/python3.6/site-packages (from python-etcd) (1.16.0)\n",
      "Requirement already satisfied: urllib3>=1.7.1 in /opt/conda/lib/python3.6/site-packages (from python-etcd) (1.22)\n",
      "\n",
      "> intel-people-counter-app@0.1.0 dev /home/workspace/webservice/ui\n",
      "> cross-env NODE_ENV=development webpack-dev-server --history-api-fallback --watch --hot --inline\n",
      "\n",
      "Mosca server started.\n",
      "events.js:170\n",
      "      throw er; // Unhandled 'error' event\n",
      "      ^\n",
      "\n",
      "Error: listen EADDRINUSE: address already in use 0.0.0.0:3000\n",
      "    at Server.setupListenHandle [as _listen2] (net.js:1259:14)\n",
      "    at listenInCluster (net.js:1307:12)\n",
      "    at doListen (net.js:1446:7)\n",
      "    at processTicksAndRejections (internal/process/task_queues.js:81:17)\n",
      "    at process.runNextTicks [as _tickCallback] (internal/process/task_queues.js:56:3)\n",
      "    at Function.Module.runMain (internal/modules/cjs/loader.js:880:11)\n",
      "    at internal/main/run_main_module.js:21:11\n",
      "Emitted 'error' event at:\n",
      "    at emitErrorNT (net.js:1286:8)\n",
      "    at processTicksAndRejections (internal/process/task_queues.js:81:17)\n",
      "    [... lines matching original stack trace ...]\n",
      "    at internal/main/run_main_module.js:21:11\n",
      "\u001b[37;40mnpm\u001b[0m \u001b[0m\u001b[31;40mERR!\u001b[0m \u001b[0m\u001b[35mcode\u001b[0m ELIFECYCLE\n",
      "\u001b[0m\u001b[37;40mnpm\u001b[0m \u001b[0m\u001b[31;40mERR!\u001b[0m \u001b[0m\u001b[35merrno\u001b[0m 1\n",
      "\u001b[0m\u001b[37;40mnpm\u001b[0m \u001b[0m\u001b[31;40mERR!\u001b[0m\u001b[35m\u001b[0m intel-people-counter-app@0.1.0 dev: `cross-env NODE_ENV=development webpack-dev-server --history-api-fallback --watch --hot --inline`\n",
      "\u001b[0m\u001b[37;40mnpm\u001b[0m \u001b[0m\u001b[31;40mERR!\u001b[0m\u001b[35m\u001b[0m Exit status 1\n",
      "\u001b[0m\u001b[37;40mnpm\u001b[0m \u001b[0m\u001b[31;40mERR!\u001b[0m\u001b[35m\u001b[0m \n",
      "\u001b[0m\u001b[37;40mnpm\u001b[0m \u001b[0m\u001b[31;40mERR!\u001b[0m\u001b[35m\u001b[0m Failed at the intel-people-counter-app@0.1.0 dev script.\n",
      "\u001b[0m\u001b[37;40mnpm\u001b[0m \u001b[0m\u001b[31;40mERR!\u001b[0m\u001b[35m\u001b[0m This is probably not a problem with npm. There is likely additional logging output above.\n",
      "\u001b[0m\n",
      "\u001b[37;40mnpm\u001b[0m \u001b[0m\u001b[31;40mERR!\u001b[0m\u001b[35m\u001b[0m A complete log of this run can be found in:\n",
      "\u001b[0m\u001b[37;40mnpm\u001b[0m \u001b[0m\u001b[31;40mERR!\u001b[0m\u001b[35m\u001b[0m     /root/.npm/_logs/2020-04-25T21_11_24_334Z-debug.log\n",
      "\u001b[0m"
     ]
    }
   ],
   "source": [
    "!pip install paho-mqtt python-etcd\n",
    "import os\n",
    "\n",
    "path = os.chdir(\"/home/workspace/webservice/server/node-server\")\n",
    "!node ./server.js & npm run dev --prefix=/home/workspace/webservice/ui"
   ]
  },
  {
   "cell_type": "code",
   "execution_count": null,
   "metadata": {},
   "outputs": [],
   "source": [
    " !python /home/workspace/main.py -i resources/Pedestrian_Detect_2_1_1.mp4 -m your-model.xml -l /opt/intel/openvino/deployment_tools/inference_engine/lib/intel64/libcpu_extension_sse4.so -d CPU -pt 0.6 | ffmpeg -v warning -f rawvideo -pixel_format bgr24 -video_size 768x432 -framerate 24 -i - http://0.0.0.0:3004/fac.ffm"
   ]
  }
 ],
 "metadata": {
  "kernelspec": {
   "display_name": "Python 3",
   "language": "python",
   "name": "python3"
  },
  "language_info": {
   "codemirror_mode": {
    "name": "ipython",
    "version": 3
   },
   "file_extension": ".py",
   "mimetype": "text/x-python",
   "name": "python",
   "nbconvert_exporter": "python",
   "pygments_lexer": "ipython3",
   "version": "3.6.3"
  }
 },
 "nbformat": 4,
 "nbformat_minor": 4
}
