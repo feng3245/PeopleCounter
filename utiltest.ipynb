{
 "cells": [
  {
   "cell_type": "code",
   "execution_count": 17,
   "metadata": {},
   "outputs": [
    {
     "name": "stdout",
     "output_type": "stream",
     "text": [
      "The autoreload extension is already loaded. To reload it, use:\n",
      "  %reload_ext autoreload\n"
     ]
    }
   ],
   "source": [
    "%load_ext autoreload\n",
    "%reload_ext autoreload\n",
    "%autoreload\n",
    "from trackingutil import within_bound, get_bound, inframe_tracker"
   ]
  },
  {
   "cell_type": "code",
   "execution_count": 31,
   "metadata": {},
   "outputs": [],
   "source": [
    "import unittest\n",
    "import time\n",
    "class TestUtilMethods(unittest.TestCase):\n",
    "\n",
    "    def test_within_bound(self):\n",
    "        self.assertTrue(within_bound(((1,2),(4,5)),((2,3),(4,4))))\n",
    "        self.assertTrue(within_bound(((1,2),(4,5)),((1,3),(4,5))))\n",
    "        self.assertFalse(within_bound(((1,2),(4,5)),((0,3),(4,5))))\n",
    "        self.assertFalse(within_bound(((1,2),(4,5)),((1,3),(5,5))))\n",
    "    \n",
    "    def test_get_bound(self):\n",
    "        self.assertEqual(((9, 9), (16,16)), get_bound(((10, 10), (15,15)), 0.1))\n",
    "        self.assertEqual(((9, 9), (16,16)), get_bound(((10, 10), (15,15)), 0.2))\n",
    "        self.assertEqual(((9, 9), (16,16)), get_bound(((10, 10), (15,15)), 0.4))\n",
    "        self.assertEqual(((8, 8), (17,17)), get_bound(((10, 10), (15,15)), 0.8))\n",
    "    def test_inframe_tracker(self):\n",
    "        testTracker = inframe_tracker(0.5, 0.1)\n",
    "        self.assertEqual(None,testTracker.bound)\n",
    "        testTracker.track(((1,2),(3,4)))\n",
    "        self.assertEqual(get_bound(((1,2),(3,4)), 0.1),testTracker.bound)\n",
    "        testTracker.track(((-1,2),(3,4)))\n",
    "        time.sleep(1)\n",
    "        testTracker.track(None)\n",
    "        self.assertEqual(2,len(testTracker.timesInframe))\n",
    "        self.assertTrue(sum(testTracker.timesInframe)/len(testTracker.timesInframe) > 0.5 and sum(testTracker.timesInframe)/len(testTracker.timesInframe) < 1)\n",
    "TestUtilMethods().test_within_bound()\n",
    "TestUtilMethods().test_get_bound()\n",
    "TestUtilMethods().test_inframe_tracker()"
   ]
  },
  {
   "cell_type": "code",
   "execution_count": null,
   "metadata": {},
   "outputs": [],
   "source": []
  }
 ],
 "metadata": {
  "kernelspec": {
   "display_name": "Python 3",
   "language": "python",
   "name": "python3"
  },
  "language_info": {
   "codemirror_mode": {
    "name": "ipython",
    "version": 3
   },
   "file_extension": ".py",
   "mimetype": "text/x-python",
   "name": "python",
   "nbconvert_exporter": "python",
   "pygments_lexer": "ipython3",
   "version": "3.6.3"
  }
 },
 "nbformat": 4,
 "nbformat_minor": 4
}
