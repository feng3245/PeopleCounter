{
 "cells": [
  {
   "cell_type": "code",
   "execution_count": 1,
   "metadata": {},
   "outputs": [],
   "source": [
    "%load_ext autoreload\n",
    "%reload_ext autoreload\n",
    "%autoreload\n",
    "from trackingutil import within_bound, get_bound, object_tracker, video_tracker"
   ]
  },
  {
   "cell_type": "code",
   "execution_count": 3,
   "metadata": {},
   "outputs": [
    {
     "name": "stderr",
     "output_type": "stream",
     "text": [
      "/opt/conda/lib/python3.6/site-packages/ipykernel_launcher.py:62: DeprecationWarning: Please use assertEqual instead.\n"
     ]
    },
    {
     "ename": "AssertionError",
     "evalue": "1.5 != None",
     "output_type": "error",
     "traceback": [
      "\u001b[0;31m---------------------------------------------------------------------------\u001b[0m",
      "\u001b[0;31mAssertionError\u001b[0m                            Traceback (most recent call last)",
      "\u001b[0;32m<ipython-input-3-f112e3c59485>\u001b[0m in \u001b[0;36m<module>\u001b[0;34m()\u001b[0m\n\u001b[1;32m     65\u001b[0m \u001b[0mTestUtilMethods\u001b[0m\u001b[0;34m(\u001b[0m\u001b[0;34m)\u001b[0m\u001b[0;34m.\u001b[0m\u001b[0mtest_get_bound\u001b[0m\u001b[0;34m(\u001b[0m\u001b[0;34m)\u001b[0m\u001b[0;34m\u001b[0m\u001b[0m\n\u001b[1;32m     66\u001b[0m \u001b[0mTestUtilMethods\u001b[0m\u001b[0;34m(\u001b[0m\u001b[0;34m)\u001b[0m\u001b[0;34m.\u001b[0m\u001b[0mtest_object_tracker\u001b[0m\u001b[0;34m(\u001b[0m\u001b[0;34m)\u001b[0m\u001b[0;34m\u001b[0m\u001b[0m\n\u001b[0;32m---> 67\u001b[0;31m \u001b[0mTestUtilMethods\u001b[0m\u001b[0;34m(\u001b[0m\u001b[0;34m)\u001b[0m\u001b[0;34m.\u001b[0m\u001b[0mtest_video_tracker\u001b[0m\u001b[0;34m(\u001b[0m\u001b[0;34m)\u001b[0m\u001b[0;34m\u001b[0m\u001b[0m\n\u001b[0m",
      "\u001b[0;32m<ipython-input-3-f112e3c59485>\u001b[0m in \u001b[0;36mtest_video_tracker\u001b[0;34m(self)\u001b[0m\n\u001b[1;32m     60\u001b[0m         \u001b[0mvidTracker\u001b[0m\u001b[0;34m.\u001b[0m\u001b[0mactive_obs_trackers\u001b[0m \u001b[0;34m=\u001b[0m \u001b[0;34m[\u001b[0m\u001b[0mnewObs2\u001b[0m\u001b[0;34m]\u001b[0m\u001b[0;34m\u001b[0m\u001b[0m\n\u001b[1;32m     61\u001b[0m         \u001b[0mvidTracker\u001b[0m\u001b[0;34m.\u001b[0m\u001b[0moof_obs_trackers\u001b[0m \u001b[0;34m=\u001b[0m \u001b[0;34m[\u001b[0m\u001b[0mnewObs\u001b[0m\u001b[0;34m]\u001b[0m\u001b[0;34m\u001b[0m\u001b[0m\n\u001b[0;32m---> 62\u001b[0;31m         \u001b[0mself\u001b[0m\u001b[0;34m.\u001b[0m\u001b[0massertEquals\u001b[0m\u001b[0;34m(\u001b[0m\u001b[0;36m1.5\u001b[0m\u001b[0;34m,\u001b[0m \u001b[0mvidTracker\u001b[0m\u001b[0;34m.\u001b[0m\u001b[0mget_average\u001b[0m\u001b[0;34m(\u001b[0m\u001b[0;34m)\u001b[0m\u001b[0;34m)\u001b[0m\u001b[0;34m\u001b[0m\u001b[0m\n\u001b[0m\u001b[1;32m     63\u001b[0m         \u001b[0mself\u001b[0m\u001b[0;34m.\u001b[0m\u001b[0massertEquals\u001b[0m\u001b[0;34m(\u001b[0m\u001b[0;36m2\u001b[0m\u001b[0;34m,\u001b[0m \u001b[0mvidTracker\u001b[0m\u001b[0;34m.\u001b[0m\u001b[0mget_num_objects\u001b[0m\u001b[0;34m(\u001b[0m\u001b[0;34m)\u001b[0m\u001b[0;34m)\u001b[0m\u001b[0;34m\u001b[0m\u001b[0m\n\u001b[1;32m     64\u001b[0m \u001b[0mTestUtilMethods\u001b[0m\u001b[0;34m(\u001b[0m\u001b[0;34m)\u001b[0m\u001b[0;34m.\u001b[0m\u001b[0mtest_within_bound\u001b[0m\u001b[0;34m(\u001b[0m\u001b[0;34m)\u001b[0m\u001b[0;34m\u001b[0m\u001b[0m\n",
      "\u001b[0;32m/opt/conda/lib/python3.6/unittest/case.py\u001b[0m in \u001b[0;36mdeprecated_func\u001b[0;34m(*args, **kwargs)\u001b[0m\n\u001b[1;32m   1318\u001b[0m                 \u001b[0;34m'Please use {0} instead.'\u001b[0m\u001b[0;34m.\u001b[0m\u001b[0mformat\u001b[0m\u001b[0;34m(\u001b[0m\u001b[0moriginal_func\u001b[0m\u001b[0;34m.\u001b[0m\u001b[0m__name__\u001b[0m\u001b[0;34m)\u001b[0m\u001b[0;34m,\u001b[0m\u001b[0;34m\u001b[0m\u001b[0m\n\u001b[1;32m   1319\u001b[0m                 DeprecationWarning, 2)\n\u001b[0;32m-> 1320\u001b[0;31m             \u001b[0;32mreturn\u001b[0m \u001b[0moriginal_func\u001b[0m\u001b[0;34m(\u001b[0m\u001b[0;34m*\u001b[0m\u001b[0margs\u001b[0m\u001b[0;34m,\u001b[0m \u001b[0;34m**\u001b[0m\u001b[0mkwargs\u001b[0m\u001b[0;34m)\u001b[0m\u001b[0;34m\u001b[0m\u001b[0m\n\u001b[0m\u001b[1;32m   1321\u001b[0m         \u001b[0;32mreturn\u001b[0m \u001b[0mdeprecated_func\u001b[0m\u001b[0;34m\u001b[0m\u001b[0m\n\u001b[1;32m   1322\u001b[0m \u001b[0;34m\u001b[0m\u001b[0m\n",
      "\u001b[0;32m/opt/conda/lib/python3.6/unittest/case.py\u001b[0m in \u001b[0;36massertEqual\u001b[0;34m(self, first, second, msg)\u001b[0m\n\u001b[1;32m    827\u001b[0m         \"\"\"\n\u001b[1;32m    828\u001b[0m         \u001b[0massertion_func\u001b[0m \u001b[0;34m=\u001b[0m \u001b[0mself\u001b[0m\u001b[0;34m.\u001b[0m\u001b[0m_getAssertEqualityFunc\u001b[0m\u001b[0;34m(\u001b[0m\u001b[0mfirst\u001b[0m\u001b[0;34m,\u001b[0m \u001b[0msecond\u001b[0m\u001b[0;34m)\u001b[0m\u001b[0;34m\u001b[0m\u001b[0m\n\u001b[0;32m--> 829\u001b[0;31m         \u001b[0massertion_func\u001b[0m\u001b[0;34m(\u001b[0m\u001b[0mfirst\u001b[0m\u001b[0;34m,\u001b[0m \u001b[0msecond\u001b[0m\u001b[0;34m,\u001b[0m \u001b[0mmsg\u001b[0m\u001b[0;34m=\u001b[0m\u001b[0mmsg\u001b[0m\u001b[0;34m)\u001b[0m\u001b[0;34m\u001b[0m\u001b[0m\n\u001b[0m\u001b[1;32m    830\u001b[0m \u001b[0;34m\u001b[0m\u001b[0m\n\u001b[1;32m    831\u001b[0m     \u001b[0;32mdef\u001b[0m \u001b[0massertNotEqual\u001b[0m\u001b[0;34m(\u001b[0m\u001b[0mself\u001b[0m\u001b[0;34m,\u001b[0m \u001b[0mfirst\u001b[0m\u001b[0;34m,\u001b[0m \u001b[0msecond\u001b[0m\u001b[0;34m,\u001b[0m \u001b[0mmsg\u001b[0m\u001b[0;34m=\u001b[0m\u001b[0;32mNone\u001b[0m\u001b[0;34m)\u001b[0m\u001b[0;34m:\u001b[0m\u001b[0;34m\u001b[0m\u001b[0m\n",
      "\u001b[0;32m/opt/conda/lib/python3.6/unittest/case.py\u001b[0m in \u001b[0;36m_baseAssertEqual\u001b[0;34m(self, first, second, msg)\u001b[0m\n\u001b[1;32m    820\u001b[0m             \u001b[0mstandardMsg\u001b[0m \u001b[0;34m=\u001b[0m \u001b[0;34m'%s != %s'\u001b[0m \u001b[0;34m%\u001b[0m \u001b[0m_common_shorten_repr\u001b[0m\u001b[0;34m(\u001b[0m\u001b[0mfirst\u001b[0m\u001b[0;34m,\u001b[0m \u001b[0msecond\u001b[0m\u001b[0;34m)\u001b[0m\u001b[0;34m\u001b[0m\u001b[0m\n\u001b[1;32m    821\u001b[0m             \u001b[0mmsg\u001b[0m \u001b[0;34m=\u001b[0m \u001b[0mself\u001b[0m\u001b[0;34m.\u001b[0m\u001b[0m_formatMessage\u001b[0m\u001b[0;34m(\u001b[0m\u001b[0mmsg\u001b[0m\u001b[0;34m,\u001b[0m \u001b[0mstandardMsg\u001b[0m\u001b[0;34m)\u001b[0m\u001b[0;34m\u001b[0m\u001b[0m\n\u001b[0;32m--> 822\u001b[0;31m             \u001b[0;32mraise\u001b[0m \u001b[0mself\u001b[0m\u001b[0;34m.\u001b[0m\u001b[0mfailureException\u001b[0m\u001b[0;34m(\u001b[0m\u001b[0mmsg\u001b[0m\u001b[0;34m)\u001b[0m\u001b[0;34m\u001b[0m\u001b[0m\n\u001b[0m\u001b[1;32m    823\u001b[0m \u001b[0;34m\u001b[0m\u001b[0m\n\u001b[1;32m    824\u001b[0m     \u001b[0;32mdef\u001b[0m \u001b[0massertEqual\u001b[0m\u001b[0;34m(\u001b[0m\u001b[0mself\u001b[0m\u001b[0;34m,\u001b[0m \u001b[0mfirst\u001b[0m\u001b[0;34m,\u001b[0m \u001b[0msecond\u001b[0m\u001b[0;34m,\u001b[0m \u001b[0mmsg\u001b[0m\u001b[0;34m=\u001b[0m\u001b[0;32mNone\u001b[0m\u001b[0;34m)\u001b[0m\u001b[0;34m:\u001b[0m\u001b[0;34m\u001b[0m\u001b[0m\n",
      "\u001b[0;31mAssertionError\u001b[0m: 1.5 != None"
     ]
    }
   ],
   "source": [
    "import unittest\n",
    "import time\n",
    "class TestUtilMethods(unittest.TestCase):\n",
    "\n",
    "    def test_within_bound(self):\n",
    "        self.assertTrue(within_bound(((1,2),(4,5)),((2,3),(4,4))))\n",
    "        self.assertTrue(within_bound(((1,2),(4,5)),((1,3),(4,5))))\n",
    "        self.assertFalse(within_bound(((1,2),(4,5)),((0,3),(4,5))))\n",
    "        self.assertFalse(within_bound(((1,2),(4,5)),((1,3),(5,5))))\n",
    "    \n",
    "    def test_get_bound(self):\n",
    "        self.assertEqual(((9, 9), (16,16)), get_bound(((10, 10), (15,15)), 0.1))\n",
    "        self.assertEqual(((9, 9), (16,16)), get_bound(((10, 10), (15,15)), 0.2))\n",
    "        self.assertEqual(((9, 9), (16,16)), get_bound(((10, 10), (15,15)), 0.4))\n",
    "        self.assertEqual(((8, 8), (17,17)), get_bound(((10, 10), (15,15)), 0.8))\n",
    "    def test_object_tracker(self):\n",
    "        testTracker = object_tracker(0.5, 0.1)\n",
    "        self.assertTrue(testTracker.Inframe)\n",
    "        self.assertEqual(None,testTracker.bound)\n",
    "        self.assertTrue(testTracker.track(((1,2),(3,4))))\n",
    "        self.assertEqual(get_bound(((1,2),(3,4)), 0.1),testTracker.bound)\n",
    "        self.assertTrue(testTracker.Inframe)\n",
    "        self.assertFalse(testTracker.track(((-1,2),(3,4))))\n",
    "        self.assertEqual(get_bound(((1,2),(3,4)), 0.1),testTracker.bound)\n",
    "        time.sleep(1)\n",
    "        self.assertFalse(testTracker.track(((-1,2),(3,4))))\n",
    "        self.assertFalse(testTracker.Inframe)\n",
    "        self.assertTrue(1 > testTracker.timeInframe())\n",
    "        self.assertTrue(testTracker.timeInframe() >= 0.5)\n",
    "        testTracker = object_tracker(0.5, 0.1)\n",
    "        self.assertEqual(None,testTracker.bound)\n",
    "        self.assertTrue(testTracker.track(((1,2),(3,4))))\n",
    "        self.assertEqual(get_bound(((1,2),(3,4)), 0.1),testTracker.bound)\n",
    "        self.assertFalse(testTracker.track(((-1,2),(3,4))))\n",
    "        self.assertEqual(get_bound(((1,2),(3,4)), 0.1),testTracker.bound)\n",
    "        time.sleep(1)\n",
    "        self.assertFalse(testTracker.track(None))\n",
    "        self.assertTrue(1 > testTracker.timeInframe())\n",
    "        self.assertTrue(testTracker.timeInframe() >= 0.5)\n",
    "    def test_video_tracker(self):\n",
    "        vidTracker = video_tracker(0.5, 0.1)\n",
    "        vidTracker.track(((1,2),(3,4)))\n",
    "        self.assertEqual(1, len(vidTracker.active_obs_trackers))\n",
    "        time.sleep(1)\n",
    "        vidTracker.track(None)\n",
    "        self.assertEqual(0, len(vidTracker.active_obs_trackers))\n",
    "        self.assertEqual(1, len(vidTracker.oof_obs_trackers))\n",
    "        vidTracker.track(((1,2),(3,4)))\n",
    "        self.assertEqual(1, len(vidTracker.active_obs_trackers))\n",
    "        time.sleep(1)\n",
    "        vidTracker.track(((-1,2),(3,4)))\n",
    "        self.assertEqual(1, len(vidTracker.active_obs_trackers))\n",
    "        self.assertEqual(2, len(vidTracker.oof_obs_trackers))\n",
    "        newObs = object_tracker(0, 0)\n",
    "        newObs2 = object_tracker(0, 0)\n",
    "        newObs.lastInframe = 2\n",
    "        newObs.firstInframe = 0\n",
    "        newObs2.lastInframe = 1\n",
    "        newObs2.firstInframe = 0\n",
    "        vidTracker.active_obs_trackers = [newObs2]\n",
    "        vidTracker.oof_obs_trackers = [newObs]\n",
    "        self.assertEqual(1.5, vidTracker.get_average())\n",
    "        self.assertEqual(2, vidTracker.get_num_objects())\n",
    "TestUtilMethods().test_within_bound()\n",
    "TestUtilMethods().test_get_bound()\n",
    "TestUtilMethods().test_object_tracker()\n",
    "TestUtilMethods().test_video_tracker()"
   ]
  },
  {
   "cell_type": "code",
   "execution_count": null,
   "metadata": {},
   "outputs": [],
   "source": []
  }
 ],
 "metadata": {
  "kernelspec": {
   "display_name": "Python 3",
   "language": "python",
   "name": "python3"
  },
  "language_info": {
   "codemirror_mode": {
    "name": "ipython",
    "version": 3
   },
   "file_extension": ".py",
   "mimetype": "text/x-python",
   "name": "python",
   "nbconvert_exporter": "python",
   "pygments_lexer": "ipython3",
   "version": "3.6.3"
  }
 },
 "nbformat": 4,
 "nbformat_minor": 4
}
